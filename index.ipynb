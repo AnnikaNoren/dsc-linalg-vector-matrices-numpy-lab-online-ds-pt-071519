{
 "cells": [
  {
   "cell_type": "markdown",
   "metadata": {
    "toc": true
   },
   "source": [
    "<h1>Table of Contents<span class=\"tocSkip\"></span></h1>\n",
    "<div class=\"toc\"><ul class=\"toc-item\"><li><span><a href=\"#Vectors-and-Matrices-in-Numpy---Lab\" data-toc-modified-id=\"Vectors-and-Matrices-in-Numpy---Lab-1\"><span class=\"toc-item-num\">1&nbsp;&nbsp;</span>Vectors and Matrices in Numpy - Lab</a></span><ul class=\"toc-item\"><li><span><a href=\"#Introduction\" data-toc-modified-id=\"Introduction-1.1\"><span class=\"toc-item-num\">1.1&nbsp;&nbsp;</span>Introduction</a></span></li><li><span><a href=\"#Objectives\" data-toc-modified-id=\"Objectives-1.2\"><span class=\"toc-item-num\">1.2&nbsp;&nbsp;</span>Objectives</a></span></li><li><span><a href=\"#1.-Define-two-arrays-$A$--with-shape-$-(4-\\times-2)$-and-$B$-with-shape-$(2-\\times-3)$\" data-toc-modified-id=\"1.-Define-two-arrays-$A$--with-shape-$-(4-\\times-2)$-and-$B$-with-shape-$(2-\\times-3)$-1.3\"><span class=\"toc-item-num\">1.3&nbsp;&nbsp;</span>1. Define two arrays $A$  with shape $ (4 \\times 2)$ and $B$ with shape $(2 \\times 3)$</a></span></li><li><span><a href=\"#2.-Print-the-dimensions-of-$A$-and-$B$\" data-toc-modified-id=\"2.-Print-the-dimensions-of-$A$-and-$B$-1.4\"><span class=\"toc-item-num\">1.4&nbsp;&nbsp;</span>2. Print the dimensions of $A$ and $B$</a></span></li><li><span><a href=\"#3.-Print-elements-from-$A$\" data-toc-modified-id=\"3.-Print-elements-from-$A$-1.5\"><span class=\"toc-item-num\">1.5&nbsp;&nbsp;</span>3. Print elements from $A$</a></span></li><li><span><a href=\"#4.-Write-a-routine-to-populate-a-matrix-with-random-data\" data-toc-modified-id=\"4.-Write-a-routine-to-populate-a-matrix-with-random-data-1.6\"><span class=\"toc-item-num\">1.6&nbsp;&nbsp;</span>4. Write a routine to populate a matrix with random data</a></span></li><li><span><a href=\"#5.-Turn-the-above-routine-into-a-function\" data-toc-modified-id=\"5.-Turn-the-above-routine-into-a-function-1.7\"><span class=\"toc-item-num\">1.7&nbsp;&nbsp;</span>5. Turn the above routine into a function</a></span></li><li><span><a href=\"#Summary\" data-toc-modified-id=\"Summary-1.8\"><span class=\"toc-item-num\">1.8&nbsp;&nbsp;</span>Summary</a></span></li></ul></li></ul></div>"
   ]
  },
  {
   "cell_type": "markdown",
   "metadata": {},
   "source": [
    "# Vectors and Matrices in Numpy - Lab\n",
    "\n",
    "## Introduction\n",
    "\n",
    "In this lab, you'll solve some simple matrix creation and manipulation exercises based on what you've learned so far in this section. The key takeaway here is to be able to understand how to use indexing with matrices and vectors while applying some basic operations.\n",
    "\n",
    "## Objectives\n",
    "\n",
    "In this lab you will: \n",
    "\n",
    "- Find the shape of vectors and matrices \n",
    "- Access and manipulate individual scalar components of a matrix \n",
    "- Create vectors and matrices using Numpy and Python\n",
    "\n",
    "## 1. Define two arrays $A$  with shape $ (4 \\times 2)$ and $B$ with shape $(2 \\times 3)$ \n",
    "So    $A =    \n",
    "  \\left[ {\\begin{array}{cc}\n",
    "   1402 & 191 \\\\\n",
    "   1371 &  821\\\\\n",
    "   949 &  1437 \\\\\n",
    "   147 & 1448 \\\\\n",
    "  \\end{array} }\\right]\n",
    "$\n",
    "and\n",
    "$\n",
    "B =    \n",
    "  \\left[ {\\begin{array}{ccc}\n",
    "   1 & 2 & 3 \\\\\n",
    "   4 & 5 & 6\\\\\n",
    "  \\end{array} }\\right]\n",
    "$"
   ]
  },
  {
   "cell_type": "code",
   "execution_count": 2,
   "metadata": {},
   "outputs": [],
   "source": [
    "# Code here\n",
    "A = np.array([[1402, 191], [1371, 821], [949, 1437], [147,1448]])\n",
    "B = np.array([[1, 2,3], [4, 5,6]])"
   ]
  },
  {
   "cell_type": "markdown",
   "metadata": {},
   "source": [
    "## 2. Print the dimensions of $A$ and $B$ "
   ]
  },
  {
   "cell_type": "code",
   "execution_count": 4,
   "metadata": {},
   "outputs": [
    {
     "name": "stdout",
     "output_type": "stream",
     "text": [
      "(4, 2) (2, 3)\n"
     ]
    }
   ],
   "source": [
    "# Code here\n",
    "print(A.shape, B.shape)"
   ]
  },
  {
   "cell_type": "markdown",
   "metadata": {},
   "source": [
    "## 3. Print elements from $A$\n",
    "\n",
    "Print the following elements from $A$: \n",
    "\n",
    "* First row and first column\n",
    "* First row and second column\n",
    "* Third row and second column\n",
    "* Fourth row and first column"
   ]
  },
  {
   "cell_type": "code",
   "execution_count": 12,
   "metadata": {},
   "outputs": [
    {
     "name": "stdout",
     "output_type": "stream",
     "text": [
      "1402\n",
      "191\n",
      "1437\n",
      "147\n"
     ]
    }
   ],
   "source": [
    "# Code here\n",
    "print(A[0,0])\n",
    "print(A[0,1])\n",
    "print(A[2,1])\n",
    "print(A[-1,0])"
   ]
  },
  {
   "cell_type": "markdown",
   "metadata": {},
   "source": [
    "## 4. Write a routine to populate a matrix with random data\n",
    "* Create an $(3 \\times 3)$ Numpy array with all zeros (use `np.zeros()`)\n",
    "* Access each location $(i,j)$ of this matrix and fill in random values between the range 1 and 10 "
   ]
  },
  {
   "cell_type": "code",
   "execution_count": 21,
   "metadata": {},
   "outputs": [
    {
     "name": "stdout",
     "output_type": "stream",
     "text": [
      "[[9. 7. 6.]\n",
      " [1. 2. 1.]\n",
      " [2. 9. 8.]]\n"
     ]
    }
   ],
   "source": [
    "# Code here\n",
    "C = [3,3]\n",
    "C = np.zeros(C)\n",
    "#M = np.zeros((3,3))\n",
    "\n",
    "import random\n",
    "\n",
    "# stackoverflow\n",
    "\n",
    "# for x in range(0, rows):\n",
    "#     for y in range(0, cols):\n",
    "#         print a[x,y]\n",
    "\n",
    "rows = C.shape[0]\n",
    "cols = C.shape[1]\n",
    "\n",
    "for x in range(0, rows):\n",
    "    for y in range(0,cols):\n",
    "        C[x][y] = random.randint(1,10)\n",
    "\n",
    "print(C)"
   ]
  },
  {
   "cell_type": "markdown",
   "metadata": {},
   "source": [
    "## 5. Turn the above routine into a function\n",
    "* Create two $(4 \\times 4)$ zero-valued matrices and fill with random data using the function\n",
    "* Add the matrices together in Numpy \n",
    "* Print the results"
   ]
  },
  {
   "cell_type": "code",
   "execution_count": 25,
   "metadata": {},
   "outputs": [
    {
     "name": "stdout",
     "output_type": "stream",
     "text": [
      "[[16. 16. 12.  7.]\n",
      " [12. 10. 12.  9.]\n",
      " [15. 12. 10. 11.]\n",
      " [12.  9. 14.  6.]]\n"
     ]
    }
   ],
   "source": [
    "# Code here\n",
    "def fill(C):\n",
    "    rows = C.shape[0]\n",
    "    cols = C.shape[1]\n",
    "\n",
    "    for x in range(0, rows):\n",
    "        for y in range(0,cols):\n",
    "            C[x][y] = random.randint(1,10)\n",
    "    return C\n",
    "\n",
    "matrix1 = np.zeros((4,4))\n",
    "matrix2 = np.zeros((4,4))\n",
    "\n",
    "matrix3 = fill(matrix1)\n",
    "matrix4 = fill(matrix2)\n",
    "#print(matrix3, matrix4)\n",
    "matrix5 = matrix3 + matrix4\n",
    "print(matrix5)"
   ]
  },
  {
   "cell_type": "markdown",
   "metadata": {},
   "source": [
    "## Summary \n",
    "\n",
    "In this lab, we saw how to create and manipulate vectors and matrices in Numpy. We shall now move forward to learning more complex operations including dot products and matrix inversions.  "
   ]
  }
 ],
 "metadata": {
  "kernelspec": {
   "display_name": "Python 3",
   "language": "python",
   "name": "python3"
  },
  "language_info": {
   "codemirror_mode": {
    "name": "ipython",
    "version": 3
   },
   "file_extension": ".py",
   "mimetype": "text/x-python",
   "name": "python",
   "nbconvert_exporter": "python",
   "pygments_lexer": "ipython3",
   "version": "3.6.6"
  },
  "toc": {
   "base_numbering": 1,
   "nav_menu": {},
   "number_sections": true,
   "sideBar": true,
   "skip_h1_title": false,
   "title_cell": "Table of Contents",
   "title_sidebar": "Contents",
   "toc_cell": true,
   "toc_position": {},
   "toc_section_display": true,
   "toc_window_display": false
  },
  "varInspector": {
   "cols": {
    "lenName": 16,
    "lenType": 16,
    "lenVar": 40
   },
   "kernels_config": {
    "python": {
     "delete_cmd_postfix": "",
     "delete_cmd_prefix": "del ",
     "library": "var_list.py",
     "varRefreshCmd": "print(var_dic_list())"
    },
    "r": {
     "delete_cmd_postfix": ") ",
     "delete_cmd_prefix": "rm(",
     "library": "var_list.r",
     "varRefreshCmd": "cat(var_dic_list()) "
    }
   },
   "types_to_exclude": [
    "module",
    "function",
    "builtin_function_or_method",
    "instance",
    "_Feature"
   ],
   "window_display": false
  }
 },
 "nbformat": 4,
 "nbformat_minor": 2
}
